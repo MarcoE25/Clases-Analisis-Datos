{
  "nbformat": 4,
  "nbformat_minor": 0,
  "metadata": {
    "colab": {
      "provenance": [],
      "authorship_tag": "ABX9TyP+Eiicf6lyhYKIdm6zSYoJ",
      "include_colab_link": true
    },
    "kernelspec": {
      "name": "python3",
      "display_name": "Python 3"
    },
    "language_info": {
      "name": "python"
    }
  },
  "cells": [
    {
      "cell_type": "markdown",
      "metadata": {
        "id": "view-in-github",
        "colab_type": "text"
      },
      "source": [
        "<a href=\"https://colab.research.google.com/github/MarcoE25/Clases-Analisis-Datos/blob/main/Ejercicio_2.ipynb\" target=\"_parent\"><img src=\"https://colab.research.google.com/assets/colab-badge.svg\" alt=\"Open In Colab\"/></a>"
      ]
    },
    {
      "cell_type": "code",
      "execution_count": 2,
      "metadata": {
        "colab": {
          "base_uri": "https://localhost:8080/"
        },
        "id": "Fe93jgD4JJeK",
        "outputId": "535433b9-25b4-4c8d-9e8f-372ca10158ab"
      },
      "outputs": [
        {
          "output_type": "stream",
          "name": "stdout",
          "text": [
            "Primeras filas del DataFrame:\n",
            "   id_venta nombre_cliente    producto   categoria  precio  unidades  \\\n",
            "0         1     Ana García      Laptop  Tecnología   13500       1.0   \n",
            "1         2     Luis Pérez       Mouse  Tecnología     250       2.0   \n",
            "2         3    Carlos Ruiz       Silla     Oficina    1250       NaN   \n",
            "3         4    María López  Escritorio     Oficina    3000       1.0   \n",
            "4         5   Laura Torres     Monitor  Tecnología    4500       1.0   \n",
            "\n",
            "        estado  \n",
            "0         CDMX  \n",
            "1          NaN  \n",
            "2  Guadalajara  \n",
            "3    Monterrey  \n",
            "4         CDMX  \n"
          ]
        }
      ],
      "source": [
        "import pandas as pd\n",
        "import numpy as np\n",
        "from io import StringIO\n",
        "# Simular la lectura de un archivo CSV desde un string\n",
        "data = \"\"\"id_venta,nombre_cliente,producto,categoria,precio,unidades,estado\n",
        "1,Ana García,Laptop,Tecnología,13500,1,CDMX\n",
        "2,Luis Pérez,Mouse,Tecnología,250,2,N/A\n",
        "3,Carlos Ruiz,Silla,Oficina,1250,,Guadalajara\n",
        "4,María López,Escritorio,Oficina,3000,1,Monterrey\n",
        "5,Laura Torres,Monitor,Tecnología,4500,1,CDMX\n",
        "6,José Gómez,Mouse,Tecnología,250,3,N/A\n",
        "7,Erika Sánchez,Silla,Oficina,1300,1,Puebla\n",
        "\"\"\"\n",
        "# Leer el CSV desde el string\n",
        "df = pd.read_csv(StringIO(data))\n",
        "# Mostrar las primeras filas\n",
        "print(\"Primeras filas del DataFrame:\")\n",
        "print(df.head())\n",
        "\n"
      ]
    },
    {
      "cell_type": "code",
      "source": [
        "# Limpiar la columna 'estado': reemplazar \"N/A\" por np.nan y llenar con\n",
        "\"Desconocido\"\n",
        "df[\"estado\"] = df[\"estado\"].replace(\"N/A\", np.nan).fillna(\"Desconocido\")\n",
        "# Limpiar y estandarizar los nombres de cliente\n",
        "df[\"nombre_cliente\"] = df[\"nombre_cliente\"].str.strip().str.lower()\n",
        "# Rellenar valores faltantes en \"unidades\" con 1\n",
        "df[\"unidades\"] = df[\"unidades\"].fillna(1)\n",
        "# Crear nueva columna \"total_venta\"\n",
        "df[\"total_venta\"] = df[\"precio\"] * df[\"unidades\"]\n",
        "# Agrupar por categoría para obtener ventas totales\n",
        "ventas_categoria = df.groupby(\"categoria\")[\"total_venta\"].sum()\n",
        "print(\"\\nVentas totales por categoría:\")\n",
        "print(ventas_categoria)\n"
      ],
      "metadata": {
        "colab": {
          "base_uri": "https://localhost:8080/"
        },
        "id": "Cx6p8K94JhTn",
        "outputId": "b64ad4a6-dd54-402f-c02b-cb88878be721"
      },
      "execution_count": 3,
      "outputs": [
        {
          "output_type": "stream",
          "name": "stdout",
          "text": [
            "\n",
            "Ventas totales por categoría:\n",
            "categoria\n",
            "Oficina        5550.0\n",
            "Tecnología    19250.0\n",
            "Name: total_venta, dtype: float64\n"
          ]
        }
      ]
    },
    {
      "cell_type": "code",
      "source": [
        "# Filtrar ventas mayores a $5000\n",
        "ventas_altas = df[df[\"total_venta\"] > 5000]\n",
        "print(\"\\nVentas mayores a $5000:\")\n",
        "print(ventas_altas)\n"
      ],
      "metadata": {
        "colab": {
          "base_uri": "https://localhost:8080/"
        },
        "id": "qW7ns8DMJpgY",
        "outputId": "6c0e2c6a-f6e5-4fb6-d226-ed30155b0373"
      },
      "execution_count": 4,
      "outputs": [
        {
          "output_type": "stream",
          "name": "stdout",
          "text": [
            "\n",
            "Ventas mayores a $5000:\n",
            "   id_venta nombre_cliente producto   categoria  precio  unidades estado  \\\n",
            "0         1     ana garcía   Laptop  Tecnología   13500       1.0   CDMX   \n",
            "\n",
            "   total_venta  \n",
            "0      13500.0  \n"
          ]
        }
      ]
    },
    {
      "cell_type": "code",
      "source": [
        "# Usar query para filtrar la categoría Tecnología\n",
        "tecnologia = df.query(\"categoria == 'Técnología'\")\n",
        "print(\"\\nVentas en la categoría Tecnología:\")\n",
        "print(tecnologia)"
      ],
      "metadata": {
        "colab": {
          "base_uri": "https://localhost:8080/"
        },
        "id": "AuDKCey3JsMg",
        "outputId": "04eeb020-894b-4bec-ba36-066d6a464e81"
      },
      "execution_count": 5,
      "outputs": [
        {
          "output_type": "stream",
          "name": "stdout",
          "text": [
            "\n",
            "Ventas en la categoría Tecnología:\n",
            "Empty DataFrame\n",
            "Columns: [id_venta, nombre_cliente, producto, categoria, precio, unidades, estado, total_venta]\n",
            "Index: []\n"
          ]
        }
      ]
    },
    {
      "cell_type": "code",
      "source": [
        "df"
      ],
      "metadata": {
        "colab": {
          "base_uri": "https://localhost:8080/",
          "height": 269
        },
        "id": "re0xHJPD5dy8",
        "outputId": "f2e06c80-5a5b-48d8-a1e1-a170584db4e3"
      },
      "execution_count": 12,
      "outputs": [
        {
          "output_type": "execute_result",
          "data": {
            "text/plain": [
              "   id_venta nombre_cliente    producto   categoria  precio  unidades  \\\n",
              "0         1     ana garcía      Laptop  Tecnología   13500       1.0   \n",
              "1         2     luis pérez       Mouse  Tecnología     250       2.0   \n",
              "2         3    carlos ruiz       Silla     Oficina    1250       1.0   \n",
              "3         4    maría lópez  Escritorio     Oficina    3000       1.0   \n",
              "4         5   laura torres     Monitor  Tecnología    4500       1.0   \n",
              "5         6     josé gómez       Mouse  Tecnología     250       3.0   \n",
              "6         7  erika sánchez       Silla     Oficina    1300       1.0   \n",
              "\n",
              "        estado  total_venta  \n",
              "0         CDMX      13500.0  \n",
              "1  Desconocido        500.0  \n",
              "2  Guadalajara       1250.0  \n",
              "3    Monterrey       3000.0  \n",
              "4         CDMX       4500.0  \n",
              "5  Desconocido        750.0  \n",
              "6       Puebla       1300.0  "
            ],
            "text/html": [
              "\n",
              "  <div id=\"df-e218289b-7f7a-4553-b532-93e4280dfd83\" class=\"colab-df-container\">\n",
              "    <div>\n",
              "<style scoped>\n",
              "    .dataframe tbody tr th:only-of-type {\n",
              "        vertical-align: middle;\n",
              "    }\n",
              "\n",
              "    .dataframe tbody tr th {\n",
              "        vertical-align: top;\n",
              "    }\n",
              "\n",
              "    .dataframe thead th {\n",
              "        text-align: right;\n",
              "    }\n",
              "</style>\n",
              "<table border=\"1\" class=\"dataframe\">\n",
              "  <thead>\n",
              "    <tr style=\"text-align: right;\">\n",
              "      <th></th>\n",
              "      <th>id_venta</th>\n",
              "      <th>nombre_cliente</th>\n",
              "      <th>producto</th>\n",
              "      <th>categoria</th>\n",
              "      <th>precio</th>\n",
              "      <th>unidades</th>\n",
              "      <th>estado</th>\n",
              "      <th>total_venta</th>\n",
              "    </tr>\n",
              "  </thead>\n",
              "  <tbody>\n",
              "    <tr>\n",
              "      <th>0</th>\n",
              "      <td>1</td>\n",
              "      <td>ana garcía</td>\n",
              "      <td>Laptop</td>\n",
              "      <td>Tecnología</td>\n",
              "      <td>13500</td>\n",
              "      <td>1.0</td>\n",
              "      <td>CDMX</td>\n",
              "      <td>13500.0</td>\n",
              "    </tr>\n",
              "    <tr>\n",
              "      <th>1</th>\n",
              "      <td>2</td>\n",
              "      <td>luis pérez</td>\n",
              "      <td>Mouse</td>\n",
              "      <td>Tecnología</td>\n",
              "      <td>250</td>\n",
              "      <td>2.0</td>\n",
              "      <td>Desconocido</td>\n",
              "      <td>500.0</td>\n",
              "    </tr>\n",
              "    <tr>\n",
              "      <th>2</th>\n",
              "      <td>3</td>\n",
              "      <td>carlos ruiz</td>\n",
              "      <td>Silla</td>\n",
              "      <td>Oficina</td>\n",
              "      <td>1250</td>\n",
              "      <td>1.0</td>\n",
              "      <td>Guadalajara</td>\n",
              "      <td>1250.0</td>\n",
              "    </tr>\n",
              "    <tr>\n",
              "      <th>3</th>\n",
              "      <td>4</td>\n",
              "      <td>maría lópez</td>\n",
              "      <td>Escritorio</td>\n",
              "      <td>Oficina</td>\n",
              "      <td>3000</td>\n",
              "      <td>1.0</td>\n",
              "      <td>Monterrey</td>\n",
              "      <td>3000.0</td>\n",
              "    </tr>\n",
              "    <tr>\n",
              "      <th>4</th>\n",
              "      <td>5</td>\n",
              "      <td>laura torres</td>\n",
              "      <td>Monitor</td>\n",
              "      <td>Tecnología</td>\n",
              "      <td>4500</td>\n",
              "      <td>1.0</td>\n",
              "      <td>CDMX</td>\n",
              "      <td>4500.0</td>\n",
              "    </tr>\n",
              "    <tr>\n",
              "      <th>5</th>\n",
              "      <td>6</td>\n",
              "      <td>josé gómez</td>\n",
              "      <td>Mouse</td>\n",
              "      <td>Tecnología</td>\n",
              "      <td>250</td>\n",
              "      <td>3.0</td>\n",
              "      <td>Desconocido</td>\n",
              "      <td>750.0</td>\n",
              "    </tr>\n",
              "    <tr>\n",
              "      <th>6</th>\n",
              "      <td>7</td>\n",
              "      <td>erika sánchez</td>\n",
              "      <td>Silla</td>\n",
              "      <td>Oficina</td>\n",
              "      <td>1300</td>\n",
              "      <td>1.0</td>\n",
              "      <td>Puebla</td>\n",
              "      <td>1300.0</td>\n",
              "    </tr>\n",
              "  </tbody>\n",
              "</table>\n",
              "</div>\n",
              "    <div class=\"colab-df-buttons\">\n",
              "\n",
              "  <div class=\"colab-df-container\">\n",
              "    <button class=\"colab-df-convert\" onclick=\"convertToInteractive('df-e218289b-7f7a-4553-b532-93e4280dfd83')\"\n",
              "            title=\"Convert this dataframe to an interactive table.\"\n",
              "            style=\"display:none;\">\n",
              "\n",
              "  <svg xmlns=\"http://www.w3.org/2000/svg\" height=\"24px\" viewBox=\"0 -960 960 960\">\n",
              "    <path d=\"M120-120v-720h720v720H120Zm60-500h600v-160H180v160Zm220 220h160v-160H400v160Zm0 220h160v-160H400v160ZM180-400h160v-160H180v160Zm440 0h160v-160H620v160ZM180-180h160v-160H180v160Zm440 0h160v-160H620v160Z\"/>\n",
              "  </svg>\n",
              "    </button>\n",
              "\n",
              "  <style>\n",
              "    .colab-df-container {\n",
              "      display:flex;\n",
              "      gap: 12px;\n",
              "    }\n",
              "\n",
              "    .colab-df-convert {\n",
              "      background-color: #E8F0FE;\n",
              "      border: none;\n",
              "      border-radius: 50%;\n",
              "      cursor: pointer;\n",
              "      display: none;\n",
              "      fill: #1967D2;\n",
              "      height: 32px;\n",
              "      padding: 0 0 0 0;\n",
              "      width: 32px;\n",
              "    }\n",
              "\n",
              "    .colab-df-convert:hover {\n",
              "      background-color: #E2EBFA;\n",
              "      box-shadow: 0px 1px 2px rgba(60, 64, 67, 0.3), 0px 1px 3px 1px rgba(60, 64, 67, 0.15);\n",
              "      fill: #174EA6;\n",
              "    }\n",
              "\n",
              "    .colab-df-buttons div {\n",
              "      margin-bottom: 4px;\n",
              "    }\n",
              "\n",
              "    [theme=dark] .colab-df-convert {\n",
              "      background-color: #3B4455;\n",
              "      fill: #D2E3FC;\n",
              "    }\n",
              "\n",
              "    [theme=dark] .colab-df-convert:hover {\n",
              "      background-color: #434B5C;\n",
              "      box-shadow: 0px 1px 3px 1px rgba(0, 0, 0, 0.15);\n",
              "      filter: drop-shadow(0px 1px 2px rgba(0, 0, 0, 0.3));\n",
              "      fill: #FFFFFF;\n",
              "    }\n",
              "  </style>\n",
              "\n",
              "    <script>\n",
              "      const buttonEl =\n",
              "        document.querySelector('#df-e218289b-7f7a-4553-b532-93e4280dfd83 button.colab-df-convert');\n",
              "      buttonEl.style.display =\n",
              "        google.colab.kernel.accessAllowed ? 'block' : 'none';\n",
              "\n",
              "      async function convertToInteractive(key) {\n",
              "        const element = document.querySelector('#df-e218289b-7f7a-4553-b532-93e4280dfd83');\n",
              "        const dataTable =\n",
              "          await google.colab.kernel.invokeFunction('convertToInteractive',\n",
              "                                                    [key], {});\n",
              "        if (!dataTable) return;\n",
              "\n",
              "        const docLinkHtml = 'Like what you see? Visit the ' +\n",
              "          '<a target=\"_blank\" href=https://colab.research.google.com/notebooks/data_table.ipynb>data table notebook</a>'\n",
              "          + ' to learn more about interactive tables.';\n",
              "        element.innerHTML = '';\n",
              "        dataTable['output_type'] = 'display_data';\n",
              "        await google.colab.output.renderOutput(dataTable, element);\n",
              "        const docLink = document.createElement('div');\n",
              "        docLink.innerHTML = docLinkHtml;\n",
              "        element.appendChild(docLink);\n",
              "      }\n",
              "    </script>\n",
              "  </div>\n",
              "\n",
              "\n",
              "    <div id=\"df-799d3c4e-8273-4ff0-8f01-ffb9445dc599\">\n",
              "      <button class=\"colab-df-quickchart\" onclick=\"quickchart('df-799d3c4e-8273-4ff0-8f01-ffb9445dc599')\"\n",
              "                title=\"Suggest charts\"\n",
              "                style=\"display:none;\">\n",
              "\n",
              "<svg xmlns=\"http://www.w3.org/2000/svg\" height=\"24px\"viewBox=\"0 0 24 24\"\n",
              "     width=\"24px\">\n",
              "    <g>\n",
              "        <path d=\"M19 3H5c-1.1 0-2 .9-2 2v14c0 1.1.9 2 2 2h14c1.1 0 2-.9 2-2V5c0-1.1-.9-2-2-2zM9 17H7v-7h2v7zm4 0h-2V7h2v10zm4 0h-2v-4h2v4z\"/>\n",
              "    </g>\n",
              "</svg>\n",
              "      </button>\n",
              "\n",
              "<style>\n",
              "  .colab-df-quickchart {\n",
              "      --bg-color: #E8F0FE;\n",
              "      --fill-color: #1967D2;\n",
              "      --hover-bg-color: #E2EBFA;\n",
              "      --hover-fill-color: #174EA6;\n",
              "      --disabled-fill-color: #AAA;\n",
              "      --disabled-bg-color: #DDD;\n",
              "  }\n",
              "\n",
              "  [theme=dark] .colab-df-quickchart {\n",
              "      --bg-color: #3B4455;\n",
              "      --fill-color: #D2E3FC;\n",
              "      --hover-bg-color: #434B5C;\n",
              "      --hover-fill-color: #FFFFFF;\n",
              "      --disabled-bg-color: #3B4455;\n",
              "      --disabled-fill-color: #666;\n",
              "  }\n",
              "\n",
              "  .colab-df-quickchart {\n",
              "    background-color: var(--bg-color);\n",
              "    border: none;\n",
              "    border-radius: 50%;\n",
              "    cursor: pointer;\n",
              "    display: none;\n",
              "    fill: var(--fill-color);\n",
              "    height: 32px;\n",
              "    padding: 0;\n",
              "    width: 32px;\n",
              "  }\n",
              "\n",
              "  .colab-df-quickchart:hover {\n",
              "    background-color: var(--hover-bg-color);\n",
              "    box-shadow: 0 1px 2px rgba(60, 64, 67, 0.3), 0 1px 3px 1px rgba(60, 64, 67, 0.15);\n",
              "    fill: var(--button-hover-fill-color);\n",
              "  }\n",
              "\n",
              "  .colab-df-quickchart-complete:disabled,\n",
              "  .colab-df-quickchart-complete:disabled:hover {\n",
              "    background-color: var(--disabled-bg-color);\n",
              "    fill: var(--disabled-fill-color);\n",
              "    box-shadow: none;\n",
              "  }\n",
              "\n",
              "  .colab-df-spinner {\n",
              "    border: 2px solid var(--fill-color);\n",
              "    border-color: transparent;\n",
              "    border-bottom-color: var(--fill-color);\n",
              "    animation:\n",
              "      spin 1s steps(1) infinite;\n",
              "  }\n",
              "\n",
              "  @keyframes spin {\n",
              "    0% {\n",
              "      border-color: transparent;\n",
              "      border-bottom-color: var(--fill-color);\n",
              "      border-left-color: var(--fill-color);\n",
              "    }\n",
              "    20% {\n",
              "      border-color: transparent;\n",
              "      border-left-color: var(--fill-color);\n",
              "      border-top-color: var(--fill-color);\n",
              "    }\n",
              "    30% {\n",
              "      border-color: transparent;\n",
              "      border-left-color: var(--fill-color);\n",
              "      border-top-color: var(--fill-color);\n",
              "      border-right-color: var(--fill-color);\n",
              "    }\n",
              "    40% {\n",
              "      border-color: transparent;\n",
              "      border-right-color: var(--fill-color);\n",
              "      border-top-color: var(--fill-color);\n",
              "    }\n",
              "    60% {\n",
              "      border-color: transparent;\n",
              "      border-right-color: var(--fill-color);\n",
              "    }\n",
              "    80% {\n",
              "      border-color: transparent;\n",
              "      border-right-color: var(--fill-color);\n",
              "      border-bottom-color: var(--fill-color);\n",
              "    }\n",
              "    90% {\n",
              "      border-color: transparent;\n",
              "      border-bottom-color: var(--fill-color);\n",
              "    }\n",
              "  }\n",
              "</style>\n",
              "\n",
              "      <script>\n",
              "        async function quickchart(key) {\n",
              "          const quickchartButtonEl =\n",
              "            document.querySelector('#' + key + ' button');\n",
              "          quickchartButtonEl.disabled = true;  // To prevent multiple clicks.\n",
              "          quickchartButtonEl.classList.add('colab-df-spinner');\n",
              "          try {\n",
              "            const charts = await google.colab.kernel.invokeFunction(\n",
              "                'suggestCharts', [key], {});\n",
              "          } catch (error) {\n",
              "            console.error('Error during call to suggestCharts:', error);\n",
              "          }\n",
              "          quickchartButtonEl.classList.remove('colab-df-spinner');\n",
              "          quickchartButtonEl.classList.add('colab-df-quickchart-complete');\n",
              "        }\n",
              "        (() => {\n",
              "          let quickchartButtonEl =\n",
              "            document.querySelector('#df-799d3c4e-8273-4ff0-8f01-ffb9445dc599 button');\n",
              "          quickchartButtonEl.style.display =\n",
              "            google.colab.kernel.accessAllowed ? 'block' : 'none';\n",
              "        })();\n",
              "      </script>\n",
              "    </div>\n",
              "\n",
              "  <div id=\"id_c648da25-3723-49ed-9af1-0c55cf31bf95\">\n",
              "    <style>\n",
              "      .colab-df-generate {\n",
              "        background-color: #E8F0FE;\n",
              "        border: none;\n",
              "        border-radius: 50%;\n",
              "        cursor: pointer;\n",
              "        display: none;\n",
              "        fill: #1967D2;\n",
              "        height: 32px;\n",
              "        padding: 0 0 0 0;\n",
              "        width: 32px;\n",
              "      }\n",
              "\n",
              "      .colab-df-generate:hover {\n",
              "        background-color: #E2EBFA;\n",
              "        box-shadow: 0px 1px 2px rgba(60, 64, 67, 0.3), 0px 1px 3px 1px rgba(60, 64, 67, 0.15);\n",
              "        fill: #174EA6;\n",
              "      }\n",
              "\n",
              "      [theme=dark] .colab-df-generate {\n",
              "        background-color: #3B4455;\n",
              "        fill: #D2E3FC;\n",
              "      }\n",
              "\n",
              "      [theme=dark] .colab-df-generate:hover {\n",
              "        background-color: #434B5C;\n",
              "        box-shadow: 0px 1px 3px 1px rgba(0, 0, 0, 0.15);\n",
              "        filter: drop-shadow(0px 1px 2px rgba(0, 0, 0, 0.3));\n",
              "        fill: #FFFFFF;\n",
              "      }\n",
              "    </style>\n",
              "    <button class=\"colab-df-generate\" onclick=\"generateWithVariable('df')\"\n",
              "            title=\"Generate code using this dataframe.\"\n",
              "            style=\"display:none;\">\n",
              "\n",
              "  <svg xmlns=\"http://www.w3.org/2000/svg\" height=\"24px\"viewBox=\"0 0 24 24\"\n",
              "       width=\"24px\">\n",
              "    <path d=\"M7,19H8.4L18.45,9,17,7.55,7,17.6ZM5,21V16.75L18.45,3.32a2,2,0,0,1,2.83,0l1.4,1.43a1.91,1.91,0,0,1,.58,1.4,1.91,1.91,0,0,1-.58,1.4L9.25,21ZM18.45,9,17,7.55Zm-12,3A5.31,5.31,0,0,0,4.9,8.1,5.31,5.31,0,0,0,1,6.5,5.31,5.31,0,0,0,4.9,4.9,5.31,5.31,0,0,0,6.5,1,5.31,5.31,0,0,0,8.1,4.9,5.31,5.31,0,0,0,12,6.5,5.46,5.46,0,0,0,6.5,12Z\"/>\n",
              "  </svg>\n",
              "    </button>\n",
              "    <script>\n",
              "      (() => {\n",
              "      const buttonEl =\n",
              "        document.querySelector('#id_c648da25-3723-49ed-9af1-0c55cf31bf95 button.colab-df-generate');\n",
              "      buttonEl.style.display =\n",
              "        google.colab.kernel.accessAllowed ? 'block' : 'none';\n",
              "\n",
              "      buttonEl.onclick = () => {\n",
              "        google.colab.notebook.generateWithVariable('df');\n",
              "      }\n",
              "      })();\n",
              "    </script>\n",
              "  </div>\n",
              "\n",
              "    </div>\n",
              "  </div>\n"
            ],
            "application/vnd.google.colaboratory.intrinsic+json": {
              "type": "dataframe",
              "variable_name": "df",
              "summary": "{\n  \"name\": \"df\",\n  \"rows\": 7,\n  \"fields\": [\n    {\n      \"column\": \"id_venta\",\n      \"properties\": {\n        \"dtype\": \"number\",\n        \"std\": 2,\n        \"min\": 1,\n        \"max\": 7,\n        \"num_unique_values\": 7,\n        \"samples\": [\n          1,\n          2,\n          6\n        ],\n        \"semantic_type\": \"\",\n        \"description\": \"\"\n      }\n    },\n    {\n      \"column\": \"nombre_cliente\",\n      \"properties\": {\n        \"dtype\": \"string\",\n        \"num_unique_values\": 7,\n        \"samples\": [\n          \"ana garc\\u00eda\",\n          \"luis p\\u00e9rez\",\n          \"jos\\u00e9 g\\u00f3mez\"\n        ],\n        \"semantic_type\": \"\",\n        \"description\": \"\"\n      }\n    },\n    {\n      \"column\": \"producto\",\n      \"properties\": {\n        \"dtype\": \"string\",\n        \"num_unique_values\": 5,\n        \"samples\": [\n          \"Mouse\",\n          \"Monitor\",\n          \"Silla\"\n        ],\n        \"semantic_type\": \"\",\n        \"description\": \"\"\n      }\n    },\n    {\n      \"column\": \"categoria\",\n      \"properties\": {\n        \"dtype\": \"category\",\n        \"num_unique_values\": 2,\n        \"samples\": [\n          \"Oficina\",\n          \"Tecnolog\\u00eda\"\n        ],\n        \"semantic_type\": \"\",\n        \"description\": \"\"\n      }\n    },\n    {\n      \"column\": \"precio\",\n      \"properties\": {\n        \"dtype\": \"number\",\n        \"std\": 4694,\n        \"min\": 250,\n        \"max\": 13500,\n        \"num_unique_values\": 6,\n        \"samples\": [\n          13500,\n          250\n        ],\n        \"semantic_type\": \"\",\n        \"description\": \"\"\n      }\n    },\n    {\n      \"column\": \"unidades\",\n      \"properties\": {\n        \"dtype\": \"number\",\n        \"std\": 0.7867957924694432,\n        \"min\": 1.0,\n        \"max\": 3.0,\n        \"num_unique_values\": 3,\n        \"samples\": [\n          1.0,\n          2.0\n        ],\n        \"semantic_type\": \"\",\n        \"description\": \"\"\n      }\n    },\n    {\n      \"column\": \"estado\",\n      \"properties\": {\n        \"dtype\": \"string\",\n        \"num_unique_values\": 5,\n        \"samples\": [\n          \"Desconocido\",\n          \"Puebla\"\n        ],\n        \"semantic_type\": \"\",\n        \"description\": \"\"\n      }\n    },\n    {\n      \"column\": \"total_venta\",\n      \"properties\": {\n        \"dtype\": \"number\",\n        \"std\": 4613.425026614226,\n        \"min\": 500.0,\n        \"max\": 13500.0,\n        \"num_unique_values\": 7,\n        \"samples\": [\n          13500.0,\n          500.0\n        ],\n        \"semantic_type\": \"\",\n        \"description\": \"\"\n      }\n    }\n  ]\n}"
            }
          },
          "metadata": {},
          "execution_count": 12
        }
      ]
    },
    {
      "cell_type": "markdown",
      "source": [
        "1. ¿Cuántas ventas se realizaron en total en la categoría Oficina?"
      ],
      "metadata": {
        "id": "1ApKTZzSKjkG"
      }
    },
    {
      "cell_type": "code",
      "source": [
        "total_oficina=df.query(\"categoria == 'Oficina'\")[\"precio\"].sum()\n",
        "int(total_oficina)"
      ],
      "metadata": {
        "id": "7CbuMm9xKl5_",
        "colab": {
          "base_uri": "https://localhost:8080/"
        },
        "outputId": "940d1288-e511-4fe3-b650-23ea9258df4a"
      },
      "execution_count": 11,
      "outputs": [
        {
          "output_type": "execute_result",
          "data": {
            "text/plain": [
              "5550"
            ]
          },
          "metadata": {},
          "execution_count": 11
        }
      ]
    },
    {
      "cell_type": "markdown",
      "source": [
        "#¿Cuál es el nombre del cliente que hizo la venta con el mayor total?"
      ],
      "metadata": {
        "id": "AigUQruU5V2n"
      }
    },
    {
      "cell_type": "code",
      "source": [
        "df_venta=df.groupby(\"nombre_cliente\")[\"total_venta\"].max()\n"
      ],
      "metadata": {
        "colab": {
          "base_uri": "https://localhost:8080/",
          "height": 335
        },
        "id": "pDS6B7G75YB0",
        "outputId": "49d5222a-652c-4cc9-941e-770502e2d3f0"
      },
      "execution_count": 13,
      "outputs": [
        {
          "output_type": "execute_result",
          "data": {
            "text/plain": [
              "nombre_cliente\n",
              "ana garcía       13500.0\n",
              "carlos ruiz       1250.0\n",
              "erika sánchez     1300.0\n",
              "josé gómez         750.0\n",
              "laura torres      4500.0\n",
              "luis pérez         500.0\n",
              "maría lópez       3000.0\n",
              "Name: total_venta, dtype: float64"
            ],
            "text/html": [
              "<div>\n",
              "<style scoped>\n",
              "    .dataframe tbody tr th:only-of-type {\n",
              "        vertical-align: middle;\n",
              "    }\n",
              "\n",
              "    .dataframe tbody tr th {\n",
              "        vertical-align: top;\n",
              "    }\n",
              "\n",
              "    .dataframe thead th {\n",
              "        text-align: right;\n",
              "    }\n",
              "</style>\n",
              "<table border=\"1\" class=\"dataframe\">\n",
              "  <thead>\n",
              "    <tr style=\"text-align: right;\">\n",
              "      <th></th>\n",
              "      <th>total_venta</th>\n",
              "    </tr>\n",
              "    <tr>\n",
              "      <th>nombre_cliente</th>\n",
              "      <th></th>\n",
              "    </tr>\n",
              "  </thead>\n",
              "  <tbody>\n",
              "    <tr>\n",
              "      <th>ana garcía</th>\n",
              "      <td>13500.0</td>\n",
              "    </tr>\n",
              "    <tr>\n",
              "      <th>carlos ruiz</th>\n",
              "      <td>1250.0</td>\n",
              "    </tr>\n",
              "    <tr>\n",
              "      <th>erika sánchez</th>\n",
              "      <td>1300.0</td>\n",
              "    </tr>\n",
              "    <tr>\n",
              "      <th>josé gómez</th>\n",
              "      <td>750.0</td>\n",
              "    </tr>\n",
              "    <tr>\n",
              "      <th>laura torres</th>\n",
              "      <td>4500.0</td>\n",
              "    </tr>\n",
              "    <tr>\n",
              "      <th>luis pérez</th>\n",
              "      <td>500.0</td>\n",
              "    </tr>\n",
              "    <tr>\n",
              "      <th>maría lópez</th>\n",
              "      <td>3000.0</td>\n",
              "    </tr>\n",
              "  </tbody>\n",
              "</table>\n",
              "</div><br><label><b>dtype:</b> float64</label>"
            ]
          },
          "metadata": {},
          "execution_count": 13
        }
      ]
    },
    {
      "cell_type": "markdown",
      "source": [
        "#¿Cuántas ventas tienen más de 2 unidades?"
      ],
      "metadata": {
        "id": "cTHEiaZS79B-"
      }
    },
    {
      "cell_type": "code",
      "source": [
        "ventas_mayores_a_2=(df[\"unidades\"] >= 2).sum()\n",
        "print(ventas_mayores_a_2)"
      ],
      "metadata": {
        "colab": {
          "base_uri": "https://localhost:8080/"
        },
        "id": "qJDHZLOH8BoR",
        "outputId": "684ae71b-fb53-41f6-b737-21ec940edfc8"
      },
      "execution_count": 18,
      "outputs": [
        {
          "output_type": "stream",
          "name": "stdout",
          "text": [
            "2\n"
          ]
        }
      ]
    },
    {
      "cell_type": "markdown",
      "source": [
        "#¿Qué estados únicos aparecen después de limpiar la columna?\n"
      ],
      "metadata": {
        "id": "cryIQaEn9Sfd"
      }
    },
    {
      "cell_type": "code",
      "source": [
        "df['estado'].unique()"
      ],
      "metadata": {
        "colab": {
          "base_uri": "https://localhost:8080/"
        },
        "id": "RetO7Vbb9UXn",
        "outputId": "8fe77ae8-a9e6-432d-df37-406aabe92369"
      },
      "execution_count": 19,
      "outputs": [
        {
          "output_type": "execute_result",
          "data": {
            "text/plain": [
              "array(['CDMX', 'Desconocido', 'Guadalajara', 'Monterrey', 'Puebla'],\n",
              "      dtype=object)"
            ]
          },
          "metadata": {},
          "execution_count": 19
        }
      ]
    },
    {
      "cell_type": "markdown",
      "source": [
        "#¿Cuál es el promedio de total_venta por categoría?"
      ],
      "metadata": {
        "id": "UFSp4Ktv9rmV"
      }
    },
    {
      "cell_type": "code",
      "source": [
        "\n",
        "df_promedio_categoria = df.groupby('categoria')[['total_venta']].mean()\n",
        "df_promedio_categoria = df_promedio_categoria.rename(columns={\"total_venta\": \"promedio\"})\n",
        "print(df_promedio_categoria)\n"
      ],
      "metadata": {
        "colab": {
          "base_uri": "https://localhost:8080/"
        },
        "id": "TxWfvuVY9s1F",
        "outputId": "a08b06a3-3075-4f33-b225-ae281042ce5d"
      },
      "execution_count": 43,
      "outputs": [
        {
          "output_type": "stream",
          "name": "stdout",
          "text": [
            "            promedio\n",
            "categoria           \n",
            "Oficina       1850.0\n",
            "Tecnología    4812.5\n"
          ]
        }
      ]
    },
    {
      "cell_type": "code",
      "source": [],
      "metadata": {
        "id": "_NSBo8Bv9hvJ"
      },
      "execution_count": null,
      "outputs": []
    }
  ]
}